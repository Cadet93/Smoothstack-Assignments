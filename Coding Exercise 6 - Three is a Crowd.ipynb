{
 "cells": [
  {
   "cell_type": "markdown",
   "metadata": {},
   "source": [
    "Three is a Crowd\n",
    "\n",
    "     Make a list of names that includes at least four people.\n",
    "     Write an if test that prints a message about the room being crowded, if there are more\n",
    "    than three people in your list.\n",
    "     Modify your list so that there are only two people in it. Use one of the methods for\n",
    "    removing people from the list, don&#39;t just redefine the list.\n",
    "     Run your if test again. There should be no output this time, because there are less than\n",
    "    three people in the list.\n",
    "     Bonus: Store your if test in a function called something like crowd_test.\n",
    "    "
   ]
  },
  {
   "cell_type": "code",
   "execution_count": 9,
   "metadata": {},
   "outputs": [
    {
     "name": "stdout",
     "output_type": "stream",
     "text": [
      "The room is crowded\n",
      "['Beth', 'Marco']\n"
     ]
    }
   ],
   "source": [
    "def crowd_test(names):\n",
    "  if len(names) > 3:\n",
    "    print(\"The room is crowded\")\n",
    "\n",
    "names = [\"Anthony\", \"Paul\", \"Ben\", \"Beth\", \"Marco\"]\n",
    "\n",
    "crowd_test(names)\n",
    "\n",
    "del names[0:3]\n",
    "\n",
    "print(names)\n",
    "\n",
    "crowd_test(names)"
   ]
  },
  {
   "cell_type": "code",
   "execution_count": null,
   "metadata": {},
   "outputs": [],
   "source": []
  }
 ],
 "metadata": {
  "kernelspec": {
   "display_name": "Python 3",
   "language": "python",
   "name": "python3"
  },
  "language_info": {
   "codemirror_mode": {
    "name": "ipython",
    "version": 3
   },
   "file_extension": ".py",
   "mimetype": "text/x-python",
   "name": "python",
   "nbconvert_exporter": "python",
   "pygments_lexer": "ipython3",
   "version": "3.7.6"
  }
 },
 "nbformat": 4,
 "nbformat_minor": 4
}
