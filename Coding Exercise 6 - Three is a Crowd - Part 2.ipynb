{
 "cells": [
  {
   "cell_type": "markdown",
   "metadata": {},
   "source": [
    "Three is a Crowd - Part 2\n",
    "\n",
    "     Save your program from Three is a Crowd under a new name.\n",
    "     Add an else statement to your if tests. If the else statement is run, have it print a\n",
    "    message that the room is not very crowded."
   ]
  },
  {
   "cell_type": "code",
   "execution_count": 1,
   "metadata": {},
   "outputs": [
    {
     "name": "stdout",
     "output_type": "stream",
     "text": [
      "The room is crowded.\n",
      "['Beth', 'Marco']\n",
      "The room is not very crowded.\n"
     ]
    }
   ],
   "source": [
    "def crowd_test(names):\n",
    "  if len(names) > 3:\n",
    "    print(\"The room is crowded.\")\n",
    "  else:\n",
    "    print(\"The room is not very crowded.\")\n",
    "\n",
    "names = [\"Anthony\", \"Paul\", \"Ben\", \"Beth\", \"Marco\"]\n",
    "\n",
    "crowd_test(names)\n",
    "\n",
    "del names[0:3]\n",
    "\n",
    "print(names)\n",
    "\n",
    "crowd_test(names)"
   ]
  }
 ],
 "metadata": {
  "kernelspec": {
   "display_name": "Python 3",
   "language": "python",
   "name": "python3"
  },
  "language_info": {
   "codemirror_mode": {
    "name": "ipython",
    "version": 3
   },
   "file_extension": ".py",
   "mimetype": "text/x-python",
   "name": "python",
   "nbconvert_exporter": "python",
   "pygments_lexer": "ipython3",
   "version": "3.7.6"
  }
 },
 "nbformat": 4,
 "nbformat_minor": 4
}
