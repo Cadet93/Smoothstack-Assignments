{
 "cells": [
  {
   "cell_type": "code",
   "execution_count": null,
   "metadata": {},
   "outputs": [],
   "source": [
    "Coding Exercise 9:\n",
    "    \n",
    "Imagine an accounting routine used in a book shop. It works on a list with sublists, which look like this:\n",
    "    \n",
    "    Order Number\n",
    "    Book Title and Author\n",
    "    Quantity\n",
    "    Price per Item\n",
    "    34587\n",
    "    Learning Python, Mark Lutz\n",
    "    4\n",
    "    40.95\n",
    "    98762\n",
    "    Programming Python, Mark Lutz\n",
    "    5\n",
    "    56.80\n",
    "    77226\n",
    "    Head First Python, Paul Barry\n",
    "    3\n",
    "    32.95\n",
    "    88112\n",
    "    Einführung in Python3, Bernd Klein\n",
    "    3\n",
    "    24.99\n",
    "\n",
    "\n",
    "Write a Python program, which returns a list with 2-tuples. Each tuple consists of a the order number\n",
    "and the product of the price per items and the quantity. The product should be increased by 10,- € if\n",
    "the value of the order is smaller than 100,00 €.\n",
    "\n",
    "Write a Python program using lambda and map.\n",
    "\n",
    "The same bookshop, but this time we work on a different list. The sublists of our lists look like this: \n",
    "[ordernumber, (article number, quantity, price per unit), ... (article number, quantity, price per unit) ] \n",
    "Write a program which returns a list of two tuples with (order number, total amount of order)."
   ]
  },
  {
   "cell_type": "code",
   "execution_count": 22,
   "metadata": {},
   "outputs": [
    {
     "name": "stdout",
     "output_type": "stream",
     "text": [
      "[('34587', 163.8), ('98762', 284.0), ('77226', 108.85000000000001), ('88112', 84.97)]\n"
     ]
    }
   ],
   "source": [
    "orders = [ [\"34587\", \"Learning Python, Mark Lutz\", 4, 40.95], [\"98762\", \"Programming Python, Mark Lutz\", 5, 56.80], \n",
    "           [\"77226\", \"Head First Python, Paul Barry\", 3,32.95], [\"88112\", \"Einführung in Python3, Bernd Klein\", \t3, 24.99]]\n",
    "\n",
    "min_order = 100\n",
    "invoice_totals = list(map(lambda order: order if order[1] >= min_order else (order[0], order[1] + 10), \n",
    "                  map(lambda order: (order[0],order[2] * order[3]), orders)))\n",
    "\n",
    "print(invoice_totals)"
   ]
  },
  {
   "cell_type": "code",
   "execution_count": 23,
   "metadata": {},
   "outputs": [
    {
     "name": "stdout",
     "output_type": "stream",
     "text": [
      "[[1, 678.3299999999999], [2, 494.46000000000004], [3, 364.79999999999995], [4, 492.57]]\n"
     ]
    }
   ],
   "source": [
    "from functools import reduce\n",
    "\n",
    "orders = [ [1, (\"5464\", 4, 9.99), (\"8274\",18,12.99), (\"9744\", 9, 44.95)], \n",
    "           [2, (\"5464\", 9, 9.99), (\"9744\", 9, 44.95)],\n",
    "           [3, (\"5464\", 9, 9.99), (\"88112\", 11, 24.99)],\n",
    "           [4, (\"8732\", 7, 11.99), (\"7733\",11,18.99), (\"88112\", 5, 39.95)] ]\n",
    "\n",
    "min_order = 100\n",
    "invoice_totals = list(map(lambda x: [x[0]] + list(map(lambda y: y[1]*y[2], x[1:])), orders))\n",
    "invoice_totals = list(map(lambda x: [x[0]] + [reduce(lambda a,b: a + b, x[1:])], invoice_totals))\n",
    "invoice_totals = list(map(lambda x: x if x[1] >= min_order else (x[0], x[1] + 10), invoice_totals))\n",
    "\n",
    "print (invoice_totals)"
   ]
  },
  {
   "cell_type": "code",
   "execution_count": null,
   "metadata": {},
   "outputs": [],
   "source": []
  }
 ],
 "metadata": {
  "kernelspec": {
   "display_name": "Python 3",
   "language": "python",
   "name": "python3"
  },
  "language_info": {
   "codemirror_mode": {
    "name": "ipython",
    "version": 3
   },
   "file_extension": ".py",
   "mimetype": "text/x-python",
   "name": "python",
   "nbconvert_exporter": "python",
   "pygments_lexer": "ipython3",
   "version": "3.7.6"
  }
 },
 "nbformat": 4,
 "nbformat_minor": 4
}
