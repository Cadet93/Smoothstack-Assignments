{
 "cells": [
  {
   "cell_type": "markdown",
   "metadata": {},
   "source": [
    "1. Write a string that returns just the letter ‘r’ from ‘Hello World’\n",
    "For example, ‘Hello World’[0] returns ‘H’.You should write one line of code. Don’t assign a variable name to the string.\n"
   ]
  },
  {
   "cell_type": "code",
   "execution_count": 1,
   "metadata": {},
   "outputs": [
    {
     "data": {
      "text/plain": [
       "'r'"
      ]
     },
     "execution_count": 1,
     "metadata": {},
     "output_type": "execute_result"
    }
   ],
   "source": [
    "'Hello World'[8]"
   ]
  },
  {
   "cell_type": "markdown",
   "metadata": {},
   "source": [
    "2. String slicing to grab the word ‘ink’ from the word  ‘thinker’\n",
    "S='hello',what is the output of h[1]"
   ]
  },
  {
   "cell_type": "code",
   "execution_count": 2,
   "metadata": {},
   "outputs": [
    {
     "data": {
      "text/plain": [
       "'ink'"
      ]
     },
     "execution_count": 2,
     "metadata": {},
     "output_type": "execute_result"
    }
   ],
   "source": [
    "s='thinker'[2:]\n",
    "s= s[:-2]\n",
    "s"
   ]
  },
  {
   "cell_type": "code",
   "execution_count": 3,
   "metadata": {},
   "outputs": [
    {
     "data": {
      "text/plain": [
       "'e'"
      ]
     },
     "execution_count": 3,
     "metadata": {},
     "output_type": "execute_result"
    }
   ],
   "source": [
    "s='hello'\n",
    "s[1]"
   ]
  },
  {
   "cell_type": "markdown",
   "metadata": {},
   "source": [
    "3. S=’Sammy’ what is the output of s[2:]”"
   ]
  },
  {
   "cell_type": "code",
   "execution_count": 4,
   "metadata": {},
   "outputs": [
    {
     "data": {
      "text/plain": [
       "'mmy'"
      ]
     },
     "execution_count": 4,
     "metadata": {},
     "output_type": "execute_result"
    }
   ],
   "source": [
    "s = 'Sammy'\n",
    "s[2:]"
   ]
  },
  {
   "cell_type": "markdown",
   "metadata": {},
   "source": [
    "4. With a single set function can you turn the word ‘Mississippi’ to distinct character word."
   ]
  },
  {
   "cell_type": "code",
   "execution_count": 5,
   "metadata": {},
   "outputs": [
    {
     "data": {
      "text/plain": [
       "{'M', 'i', 'p', 's'}"
      ]
     },
     "execution_count": 5,
     "metadata": {},
     "output_type": "execute_result"
    }
   ],
   "source": [
    "s= 'Mississippi'\n",
    "s=set(s)\n",
    "\n",
    "s"
   ]
  },
  {
   "cell_type": "markdown",
   "metadata": {},
   "source": [
    "5. Your goal in this programming exercise is to determine, whether the phrase represents a palindrome or not.\n",
    "\n",
    "Input data contains number of phrases in the first line.\n",
    "Next lines contain one phrase each.\n",
    "Answer should have a single letter (space separated) for each phrase: Y if it is a palindrome and N if not.\n"
   ]
  },
  {
   "cell_type": "code",
   "execution_count": 6,
   "metadata": {},
   "outputs": [
    {
     "name": "stdout",
     "output_type": "stream",
     "text": [
      "stras\n",
      "oakakuwakovlilvokawukakao\n",
      "somemeninterpretninememos\n",
      "sarts\n",
      "oakakuwakovlilvokawukakao\n",
      "somemeninterpretninememos\n"
     ]
    },
    {
     "data": {
      "text/plain": [
       "'N Y Y'"
      ]
     },
     "execution_count": 6,
     "metadata": {},
     "output_type": "execute_result"
    }
   ],
   "source": [
    "num_phrases = 3\n",
    "\n",
    "phrase_1 = 'stras'\n",
    "phrase_1 = phrase_1.lower()\n",
    "print(phrase_1)\n",
    "phrase_2 = 'O, a kak Uwakov lil vo kawu kakao!'\n",
    "phrase_2 = phrase_2.lower()\n",
    "phrase_2 = phrase_2.replace(',', \"\")\n",
    "phrase_2 = phrase_2.replace('!', \"\")\n",
    "phrase_2 = \"\".join(phrase_2.split())\n",
    "print(phrase_2)\n",
    "phrase_3 = 'Some men interpret nine memos'\n",
    "phrase_3 = phrase_3.lower()\n",
    "phrase_3 = \"\".join(phrase_3.split())\n",
    "print(phrase_3)\n",
    "\n",
    "p1_reversed = phrase_1[::-1]\n",
    "print(p1_reversed)\n",
    "\n",
    "p2_reversed = phrase_2[::-1]\n",
    "print(p2_reversed)\n",
    "\n",
    "p3_reversed = phrase_3[::-1]\n",
    "print(p3_reversed)\n",
    "\n",
    "if phrase_1 == p1_reversed:\n",
    "    answer = 'Y'\n",
    "else:\n",
    "    answer = 'N'\n",
    "    \n",
    "if phrase_2 == p2_reversed:\n",
    "    answer = answer + ' Y'\n",
    "else:\n",
    "    answer = answer + ' N'\n",
    "\n",
    "if phrase_3 == p3_reversed:\n",
    "    answer = answer + ' Y'\n",
    "else:\n",
    "    answer = answer + ' N'\n",
    "\n",
    "\n",
    "answer"
   ]
  },
  {
   "cell_type": "code",
   "execution_count": null,
   "metadata": {},
   "outputs": [],
   "source": []
  }
 ],
 "metadata": {
  "kernelspec": {
   "display_name": "Python 3",
   "language": "python",
   "name": "python3"
  },
  "language_info": {
   "codemirror_mode": {
    "name": "ipython",
    "version": 3
   },
   "file_extension": ".py",
   "mimetype": "text/x-python",
   "name": "python",
   "nbconvert_exporter": "python",
   "pygments_lexer": "ipython3",
   "version": "3.7.6"
  }
 },
 "nbformat": 4,
 "nbformat_minor": 4
}
