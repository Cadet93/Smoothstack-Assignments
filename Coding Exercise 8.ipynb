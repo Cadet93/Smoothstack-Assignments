{
 "cells": [
  {
   "cell_type": "markdown",
   "metadata": {},
   "source": [
    "1. Create a function func() which prints a text ‘Hello World’"
   ]
  },
  {
   "cell_type": "code",
   "execution_count": 3,
   "metadata": {},
   "outputs": [
    {
     "name": "stdout",
     "output_type": "stream",
     "text": [
      "Hello World\n"
     ]
    }
   ],
   "source": [
    "def func():\n",
    "    print(\"Hello World\")\n",
    "\n",
    "func()\n"
   ]
  },
  {
   "cell_type": "markdown",
   "metadata": {},
   "source": [
    "2.Create a function which func1(name)  which takes a value name and prints the output “Hi My name is Google’"
   ]
  },
  {
   "cell_type": "code",
   "execution_count": 4,
   "metadata": {},
   "outputs": [
    {
     "name": "stdout",
     "output_type": "stream",
     "text": [
      "Hi, My name is Google.\n"
     ]
    }
   ],
   "source": [
    "def func1(name):\n",
    "    print(f\"Hi, My name is {name}.\")\n",
    "\n",
    "func1('Google')\n"
   ]
  },
  {
   "cell_type": "markdown",
   "metadata": {},
   "source": [
    "3.Define a function func3(x,y,z) that takes three arguments x,y,z \n",
    "where z is true it will return x and when z is false it should return y . func3(‘hello’goodbye’,false)"
   ]
  },
  {
   "cell_type": "code",
   "execution_count": 5,
   "metadata": {},
   "outputs": [
    {
     "name": "stdout",
     "output_type": "stream",
     "text": [
      "hello\n"
     ]
    }
   ],
   "source": [
    "def func3(x,y,z):\n",
    "    if z == True:\n",
    "        return x\n",
    "    else:\n",
    "        return y\n",
    "\n",
    "\n",
    "result = func3('hello', 'goodbye', True)\n",
    "\n",
    "print(result)"
   ]
  },
  {
   "cell_type": "markdown",
   "metadata": {},
   "source": [
    "4.define a function func4(x,y) which returns the product of both the values."
   ]
  },
  {
   "cell_type": "code",
   "execution_count": 6,
   "metadata": {},
   "outputs": [
    {
     "name": "stdout",
     "output_type": "stream",
     "text": [
      "50\n"
     ]
    }
   ],
   "source": [
    "def func4(x,y):\n",
    "    z = x*y\n",
    "    return z\n",
    "\n",
    "total = func4(5,10)\n",
    "\n",
    "print(total)"
   ]
  },
  {
   "cell_type": "markdown",
   "metadata": {},
   "source": [
    "5. Define a function called as is_even that takes one argument , which returns true when even values is passed and false if it    is not."
   ]
  },
  {
   "cell_type": "code",
   "execution_count": 7,
   "metadata": {},
   "outputs": [
    {
     "name": "stdout",
     "output_type": "stream",
     "text": [
      "True\n"
     ]
    }
   ],
   "source": [
    "def is_even(value):\n",
    "    if value % 2 == 0:\n",
    "        return True\n",
    "    else:\n",
    "        return False\n",
    "\n",
    "even = is_even(8)\n",
    "\n",
    "print(even)"
   ]
  },
  {
   "cell_type": "markdown",
   "metadata": {},
   "source": [
    "6. Define a function that takes two arguments, and returns true if the first value is greater than the second value\n",
    "   and returns false if it is less than or equal to the second."
   ]
  },
  {
   "cell_type": "code",
   "execution_count": 8,
   "metadata": {},
   "outputs": [
    {
     "name": "stdout",
     "output_type": "stream",
     "text": [
      "True\n"
     ]
    }
   ],
   "source": [
    "def compare(a,b):\n",
    "    if a > b:\n",
    "        return True\n",
    "    else:\n",
    "        return False\n",
    "\n",
    "result = compare(4,2)\n",
    "\n",
    "print(result)"
   ]
  },
  {
   "cell_type": "markdown",
   "metadata": {},
   "source": [
    "7.Define a function which takes arbitrary number of arguments and returns the sum of the arguments."
   ]
  },
  {
   "cell_type": "code",
   "execution_count": 9,
   "metadata": {},
   "outputs": [
    {
     "name": "stdout",
     "output_type": "stream",
     "text": [
      "17\n"
     ]
    }
   ],
   "source": [
    "def func_sum(*args):\n",
    "    return sum(args)\n",
    "\n",
    "total = func_sum(3,5,9)\n",
    "\n",
    "print(total)"
   ]
  },
  {
   "cell_type": "markdown",
   "metadata": {},
   "source": [
    "8.Define a function which takes arbitrary number of arguments and returns a list containing only the arguments that are even."
   ]
  },
  {
   "cell_type": "code",
   "execution_count": 10,
   "metadata": {},
   "outputs": [
    {
     "name": "stdout",
     "output_type": "stream",
     "text": [
      "[2, 4, 6, 8, 10]\n"
     ]
    }
   ],
   "source": [
    "def func_evens(*args):\n",
    "    return [n for n in args if n%2 == 0]\n",
    "\n",
    "print(func_evens(1,2,3,4,5,6,7,8,9,10))"
   ]
  },
  {
   "cell_type": "markdown",
   "metadata": {},
   "source": [
    "9.Define a function that takes a string and \n",
    "  returns a matching string where every even letter is uppercase and every odd letter is lowercase "
   ]
  },
  {
   "cell_type": "code",
   "execution_count": 12,
   "metadata": {},
   "outputs": [
    {
     "name": "stdout",
     "output_type": "stream",
     "text": [
      "TeSt\n"
     ]
    }
   ],
   "source": [
    "def cap_string(st):\n",
    "    res = []\n",
    "    \n",
    "    for index in range(len(st)):\n",
    "        if index % 2 == 0:\n",
    "            \n",
    "            res.append(st[index].upper())\n",
    "        else:\n",
    "            res.append(st[index].lower())\n",
    "\n",
    "    \n",
    "    return ''.join(res)\n",
    "\n",
    "print(cap_string('test'))"
   ]
  },
  {
   "cell_type": "markdown",
   "metadata": {},
   "source": [
    "10. Write a function which gives lesser than a given number if both the numbers are even,\n",
    "    but returns greater if one or both or odd."
   ]
  },
  {
   "cell_type": "code",
   "execution_count": 13,
   "metadata": {},
   "outputs": [
    {
     "name": "stdout",
     "output_type": "stream",
     "text": [
      "greater\n"
     ]
    }
   ],
   "source": [
    "def even_odd(a,b):\n",
    "    if a % 2 == 0 and b % 2 == 0:\n",
    "        return \"lesser\"\n",
    "    else:\n",
    "        return \"greater\"\n",
    "\n",
    "print(even_odd(1,5))    "
   ]
  },
  {
   "cell_type": "markdown",
   "metadata": {},
   "source": [
    "11.Write a function which takes  two-strings and returns true if both the strings start with the same letter."
   ]
  },
  {
   "cell_type": "code",
   "execution_count": 14,
   "metadata": {},
   "outputs": [
    {
     "name": "stdout",
     "output_type": "stream",
     "text": [
      "False\n"
     ]
    }
   ],
   "source": [
    "def first_letter(str1, str2):\n",
    "    if str1[0] == str2[0]:\n",
    "        return True\n",
    "    else:\n",
    "        return False\n",
    "\n",
    "print(first_letter('Fan', 'Heat'))"
   ]
  },
  {
   "cell_type": "markdown",
   "metadata": {},
   "source": [
    "12.Given a value,return a value which is twice as far as other side of 7"
   ]
  },
  {
   "cell_type": "code",
   "execution_count": 15,
   "metadata": {},
   "outputs": [
    {
     "name": "stdout",
     "output_type": "stream",
     "text": [
      "[1, 4, 9, 16, 25]\n"
     ]
    }
   ],
   "source": [
    "def square_numbers(numlist):\n",
    "    return [num ** 2 for num in numlist]\n",
    "\n",
    "print(square_numbers([1,2,3,4,5]))\n",
    "\n",
    "\n"
   ]
  },
  {
   "cell_type": "markdown",
   "metadata": {},
   "source": [
    "13. A function that capitalizes first and fourth character of a word in a string."
   ]
  },
  {
   "cell_type": "code",
   "execution_count": 16,
   "metadata": {},
   "outputs": [
    {
     "name": "stdout",
     "output_type": "stream",
     "text": [
      "BliZzard\n"
     ]
    }
   ],
   "source": [
    "def cap_1and4(st):\n",
    "    res = []\n",
    "    #Iterate over the character\n",
    "    for index in range(len(st)):\n",
    "        if index == 0 or index == 3:\n",
    "            #Refer to each character via index and append modified character to list\n",
    "            res.append(st[index].upper())\n",
    "        else:\n",
    "            res.append(st[index].lower())\n",
    "\n",
    "    #Join the list into a string and return\n",
    "    return ''.join(res)\n",
    "\n",
    "print(cap_1and4('Blizzard'))"
   ]
  }
 ],
 "metadata": {
  "kernelspec": {
   "display_name": "Python 3",
   "language": "python",
   "name": "python3"
  },
  "language_info": {
   "codemirror_mode": {
    "name": "ipython",
    "version": 3
   },
   "file_extension": ".py",
   "mimetype": "text/x-python",
   "name": "python",
   "nbconvert_exporter": "python",
   "pygments_lexer": "ipython3",
   "version": "3.7.6"
  }
 },
 "nbformat": 4,
 "nbformat_minor": 4
}
