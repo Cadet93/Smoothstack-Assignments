{
 "cells": [
  {
   "cell_type": "code",
   "execution_count": null,
   "metadata": {},
   "outputs": [],
   "source": [
    "Day 5 –Weekend exercise work – please use functions for this problem\n",
    "\n",
    "Let us apply our programming skills to some quasi-scientific problem - since it is bit dull to learn only abstract things.\n",
    "The simple measure of body constitution was proposed at the middle of XIX century.\n",
    "It depends only on the height and weight of a person - and is called Body Mass Index or BMI. It is defined as:\n",
    "BMI = weight / height^2\n",
    "Where weight is taken in kilograms and height in meters.\n",
    "Four general grades are proposed:\n",
    "Underweight     -           BMI < 18.5\n",
    "Normal weight   -   18.5 <= BMI < 25.0\n",
    "Overweight      -   25.0 <= BMI < 30.0\n",
    "Obesity         -   30.0 <= BMI\n",
    "For example, if I have weight of 80 kg and height of 1.73 m I can calculate:\n",
    "BMI = 80 / (1.73)^2 = 26.7\n",
    "i.e. somewhat overweight.\n",
    "We will not discuss how proper or improper this gradation is. Instead you should simply calculate grades for several people.\n",
    "Input data contain number of people in the first line.\n",
    "Other lines will contain two values each - weight in kilograms and height in metres.\n",
    "Answer should contain words under, normal, over, obese for each corresponding test-case, separated with spaces. For example:\n",
    "input data:\n",
    "3\n",
    "80 1.73\n",
    "55 1.58\n",
    "49 1.91\n",
    " \n",
    "answer:\n",
    "over normal under\n"
   ]
  },
  {
   "cell_type": "code",
   "execution_count": 2,
   "metadata": {},
   "outputs": [
    {
     "name": "stdout",
     "output_type": "stream",
     "text": [
      "Input number of people: 2\n",
      "Input your height in meters: 1.5\n",
      "Input your weight in kilogram: 70\n",
      "Input your height in meters: 2.0\n",
      "Input your weight in kilogram: 100\n",
      "underweight underweight\n"
     ]
    }
   ],
   "source": [
    "def bmi_class(weight, height):\n",
    "    bmi = round(weight / (height * height), 2)\n",
    "    #print(bmi)\n",
    "    if bmi > 18.5:\n",
    "        return \"underweight\"\n",
    "    elif bmi >=18.5 and bmi <= 25.0:\n",
    "        return \"normal\"\n",
    "    elif bmi >= 25.0 and bmi <= 30.0:\n",
    "        return \"overweight\"\n",
    "    else:\n",
    "        return \"obese\"\n",
    "\n",
    "\n",
    "classifications = []\n",
    "num_people = int(input(\"Input number of people: \"))\n",
    "\n",
    "for person in range(num_people):\n",
    "    height = float(input(\"Input your height in meters: \"))\n",
    "    weight = float(input(\"Input your weight in kilogram: \"))\n",
    "    classifications.append(bmi_class(weight, height))\n",
    "    \n",
    "print(' '.join(classifications))"
   ]
  },
  {
   "cell_type": "code",
   "execution_count": null,
   "metadata": {},
   "outputs": [],
   "source": []
  }
 ],
 "metadata": {
  "kernelspec": {
   "display_name": "Python 3",
   "language": "python",
   "name": "python3"
  },
  "language_info": {
   "codemirror_mode": {
    "name": "ipython",
    "version": 3
   },
   "file_extension": ".py",
   "mimetype": "text/x-python",
   "name": "python",
   "nbconvert_exporter": "python",
   "pygments_lexer": "ipython3",
   "version": "3.7.6"
  }
 },
 "nbformat": 4,
 "nbformat_minor": 4
}
