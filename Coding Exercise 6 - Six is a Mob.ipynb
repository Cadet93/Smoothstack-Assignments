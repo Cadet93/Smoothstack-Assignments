{
 "cells": [
  {
   "cell_type": "markdown",
   "metadata": {},
   "source": [
    "Six is a Mob\n",
    "\n",
    "     Save your program from Three is a Crowd - Part 2 under a new name.\n",
    "     Add some names to your list, so that there are at least six people in the list.\n",
    "     Modify your tests so that\n",
    "     If there are more than 5 people, a message is printed about there being a mob\n",
    "    in the room.\n",
    "     If there are 3-5 people, a message is printed about the room being crowded.\n",
    "     If there are 1 or 2 people, a message is printed about the room not being\n",
    "    crowded.\n",
    "     If there are no people in the room, a message is printed abou the room being\n",
    "    empty."
   ]
  },
  {
   "cell_type": "code",
   "execution_count": 9,
   "metadata": {},
   "outputs": [
    {
     "name": "stdout",
     "output_type": "stream",
     "text": [
      "Oh no, There is a mob in the room!\n"
     ]
    }
   ],
   "source": [
    "def crowd_test(names):\n",
    "  if len(names) > 5:\n",
    "    print(\"Oh no, There is a mob in the room!\")\n",
    "  elif len(names) >= 3 and len(names) <= 5:\n",
    "    print(\"The room is crowded.\")\n",
    "  elif len(names) > 0:\n",
    "    print(\"The room is not crowded.\")\n",
    "  else:\n",
    "    print(\"The room is empty\")\n",
    "\n",
    "names = [\"Anthony\", \"Ben\", \"Beth\", \"Rufat\", \"Nicole\", \"Chandra\"]\n",
    "\n",
    "crowd_test(names)"
   ]
  },
  {
   "cell_type": "code",
   "execution_count": null,
   "metadata": {},
   "outputs": [],
   "source": []
  }
 ],
 "metadata": {
  "kernelspec": {
   "display_name": "Python 3",
   "language": "python",
   "name": "python3"
  },
  "language_info": {
   "codemirror_mode": {
    "name": "ipython",
    "version": 3
   },
   "file_extension": ".py",
   "mimetype": "text/x-python",
   "name": "python",
   "nbconvert_exporter": "python",
   "pygments_lexer": "ipython3",
   "version": "3.7.6"
  }
 },
 "nbformat": 4,
 "nbformat_minor": 4
}
